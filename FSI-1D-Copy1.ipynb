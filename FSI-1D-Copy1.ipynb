{
 "cells": [
  {
   "cell_type": "markdown",
   "metadata": {
    "collapsed": true
   },
   "source": [
    "#choose an example in the book\n",
    "\n",
    "#list the governing equation and the analytical solution\n",
    "\n",
    "#discretize them\n",
    "\n",
    "#algorithm\n",
    "\n",
    "#data structure\n",
    "\n",
    "#structure dyanmics equation\n",
    "$$m{{{d^2}u} \\over {d{t^2}}} + k{{du} \\over {dx}} = \\delta (x - {x_0})$$\n"
   ]
  },
  {
   "cell_type": "code",
   "execution_count": null,
   "metadata": {
    "collapsed": true
   },
   "outputs": [],
   "source": []
  }
 ],
 "metadata": {
  "kernelspec": {
   "display_name": "Python 3",
   "language": "python",
   "name": "python3"
  },
  "language_info": {
   "codemirror_mode": {
    "name": "ipython",
    "version": 3
   },
   "file_extension": ".py",
   "mimetype": "text/x-python",
   "name": "python",
   "nbconvert_exporter": "python",
   "pygments_lexer": "ipython3",
   "version": "3.6.2"
  }
 },
 "nbformat": 4,
 "nbformat_minor": 2
}
